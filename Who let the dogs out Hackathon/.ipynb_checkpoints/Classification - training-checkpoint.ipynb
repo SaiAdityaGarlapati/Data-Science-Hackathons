{
 "cells": [
  {
   "cell_type": "markdown",
   "metadata": {},
   "source": [
    "## Classification demo including training"
   ]
  },
  {
   "cell_type": "code",
   "execution_count": 32,
   "metadata": {},
   "outputs": [],
   "source": [
    "##Import libraries\n",
    "from keras.models import Sequential\n",
    "from keras.layers import Convolution2D\n",
    "from keras.layers import MaxPooling2D\n",
    "from keras.layers import Flatten\n",
    "from keras.layers import Dense\n",
    "from keras.preprocessing.image import ImageDataGenerator\n",
    "from keras.layers import Conv2D\n",
    "from keras.layers import Activation, Dropout\n",
    "import cv2\n",
    "import numpy as np\n",
    "import matplotlib.pyplot as plt\n",
    "from PIL import Image\n",
    "import pandas as pd\n",
    "import numpy as np\n",
    "from keras.preprocessing import image"
   ]
  },
  {
   "cell_type": "code",
   "execution_count": 2,
   "metadata": {},
   "outputs": [],
   "source": [
    "## Initialising the CNN\n",
    "classifier = Sequential()"
   ]
  },
  {
   "cell_type": "code",
   "execution_count": 3,
   "metadata": {},
   "outputs": [
    {
     "name": "stderr",
     "output_type": "stream",
     "text": [
      "C:\\Users\\Aditya\\Anaconda3\\envs\\tensorflow\\lib\\site-packages\\ipykernel_launcher.py:2: UserWarning: Update your `Conv2D` call to the Keras 2 API: `Conv2D(64, (3, 3), input_shape=(64, 64, 3..., activation=\"relu\")`\n",
      "  \n",
      "C:\\Users\\Aditya\\Anaconda3\\envs\\tensorflow\\lib\\site-packages\\ipykernel_launcher.py:7: UserWarning: Update your `Conv2D` call to the Keras 2 API: `Conv2D(64, (3, 3), activation=\"relu\")`\n",
      "  import sys\n",
      "C:\\Users\\Aditya\\Anaconda3\\envs\\tensorflow\\lib\\site-packages\\ipykernel_launcher.py:11: UserWarning: Update your `Conv2D` call to the Keras 2 API: `Conv2D(64, (3, 3), activation=\"relu\")`\n",
      "  # This is added back by InteractiveShellApp.init_path()\n"
     ]
    }
   ],
   "source": [
    "## Convolution(64 feature detector of dimension 3 by 3), input shape 3 layer for color image)\n",
    "classifier.add(Convolution2D(64,3,3,input_shape = (64,64,3), activation = 'relu'))\n",
    "## MaxPooling\n",
    "classifier.add(MaxPooling2D(pool_size = (2,2)))\n",
    "\n",
    "## Add another layer\n",
    "classifier.add(Convolution2D(64,3,3, activation = 'relu'))\n",
    "classifier.add(MaxPooling2D(pool_size = (2,2)))\n",
    "\n",
    "## Add another layer\n",
    "classifier.add(Convolution2D(64,3,3, activation = 'relu'))\n",
    "classifier.add(MaxPooling2D(pool_size = (2,2)))\n"
   ]
  },
  {
   "cell_type": "code",
   "execution_count": 4,
   "metadata": {},
   "outputs": [],
   "source": [
    "## Flattening\n",
    "classifier.add(Flatten())"
   ]
  },
  {
   "cell_type": "code",
   "execution_count": 5,
   "metadata": {},
   "outputs": [
    {
     "name": "stderr",
     "output_type": "stream",
     "text": [
      "C:\\Users\\Aditya\\Anaconda3\\envs\\tensorflow\\lib\\site-packages\\ipykernel_launcher.py:2: UserWarning: Update your `Dense` call to the Keras 2 API: `Dense(activation=\"relu\", units=128)`\n",
      "  \n",
      "C:\\Users\\Aditya\\Anaconda3\\envs\\tensorflow\\lib\\site-packages\\ipykernel_launcher.py:3: UserWarning: Update your `Dense` call to the Keras 2 API: `Dense(activation=\"relu\", units=64)`\n",
      "  This is separate from the ipykernel package so we can avoid doing imports until\n",
      "C:\\Users\\Aditya\\Anaconda3\\envs\\tensorflow\\lib\\site-packages\\ipykernel_launcher.py:4: UserWarning: Update your `Dense` call to the Keras 2 API: `Dense(activation=\"sigmoid\", units=1)`\n",
      "  after removing the cwd from sys.path.\n"
     ]
    }
   ],
   "source": [
    "## Fully connected ANN, Hidden ANN and output layer\n",
    "classifier.add(Dense(output_dim = 128, activation = 'relu'))\n",
    "classifier.add(Dense(output_dim = 64, activation = 'relu'))\n",
    "classifier.add(Dense(output_dim = 1, activation = 'sigmoid'))"
   ]
  },
  {
   "cell_type": "code",
   "execution_count": 6,
   "metadata": {},
   "outputs": [],
   "source": [
    "## Compliling\n",
    "classifier.compile(optimizer = 'adam', loss = 'binary_crossentropy', metrics = ['accuracy'])"
   ]
  },
  {
   "cell_type": "code",
   "execution_count": 7,
   "metadata": {},
   "outputs": [],
   "source": [
    "## data importing and transforming and scaling\n",
    "from keras.preprocessing.image import ImageDataGenerator\n",
    "train_datagen = ImageDataGenerator(\n",
    "        rescale=1./255,\n",
    "        shear_range=0.2,\n",
    "        zoom_range=0.2,\n",
    "        horizontal_flip=True)"
   ]
  },
  {
   "cell_type": "code",
   "execution_count": 8,
   "metadata": {},
   "outputs": [],
   "source": [
    "## Scaling test data\n",
    "test_datagen = ImageDataGenerator(rescale=1./255)"
   ]
  },
  {
   "cell_type": "code",
   "execution_count": 9,
   "metadata": {},
   "outputs": [
    {
     "name": "stdout",
     "output_type": "stream",
     "text": [
      "Found 6206 images belonging to 2 classes.\n"
     ]
    }
   ],
   "source": [
    "## Importing training data\n",
    "train_set = train_datagen.flow_from_directory('train',\n",
    "                                               target_size=(64, 64),\n",
    "                                               batch_size=6,\n",
    "                                               class_mode='binary')"
   ]
  },
  {
   "cell_type": "code",
   "execution_count": 10,
   "metadata": {},
   "outputs": [
    {
     "name": "stdout",
     "output_type": "stream",
     "text": [
      "{'cats': 0, 'dogs': 1}\n"
     ]
    }
   ],
   "source": [
    "#which is cat which is dog?\n",
    "label_map = (train_set.class_indices)\n",
    "print(label_map)"
   ]
  },
  {
   "cell_type": "code",
   "execution_count": 11,
   "metadata": {},
   "outputs": [
    {
     "name": "stdout",
     "output_type": "stream",
     "text": [
      "Found 0 images belonging to 0 classes.\n"
     ]
    }
   ],
   "source": [
    "## Importng test data\n",
    "test_set = test_datagen.flow_from_directory('images_test',\n",
    "                                            target_size=(64, 64),\n",
    "                                            batch_size=6,\n",
    "                                            class_mode='binary')"
   ]
  },
  {
   "cell_type": "code",
   "execution_count": 12,
   "metadata": {},
   "outputs": [],
   "source": []
  },
  {
   "cell_type": "code",
   "execution_count": 13,
   "metadata": {},
   "outputs": [
    {
     "name": "stdout",
     "output_type": "stream",
     "text": [
      "Epoch 1/10\n",
      "3103/3103 [==============================] - 151s 49ms/step - loss: 0.5276 - acc: 0.7351\n",
      "Epoch 2/10\n",
      "3103/3103 [==============================] - 144s 46ms/step - loss: 0.4235 - acc: 0.8073- ETA: 2s\n",
      "Epoch 3/10\n",
      "3103/3103 [==============================] - 141s 46ms/step - loss: 0.3792 - acc: 0.8311\n",
      "Epoch 4/10\n",
      "3103/3103 [==============================] - 142s 46ms/step - loss: 0.3368 - acc: 0.8550\n",
      "Epoch 5/10\n",
      "3103/3103 [==============================] - 140s 45ms/step - loss: 0.3066 - acc: 0.8681\n",
      "Epoch 6/10\n",
      "3103/3103 [==============================] - 141s 45ms/step - loss: 0.2737 - acc: 0.8828\n",
      "Epoch 7/10\n",
      "3103/3103 [==============================] - 144s 47ms/step - loss: 0.2432 - acc: 0.89970s - loss: 0.2427 - \n",
      "Epoch 8/10\n",
      "3103/3103 [==============================] - 144s 46ms/step - loss: 0.2218 - acc: 0.9066\n",
      "Epoch 9/10\n",
      "3103/3103 [==============================] - 154s 50ms/step - loss: 0.1961 - acc: 0.9200\n",
      "Epoch 10/10\n",
      "3103/3103 [==============================] - 142s 46ms/step - loss: 0.1775 - acc: 0.9295\n"
     ]
    },
    {
     "data": {
      "text/plain": [
       "<keras.callbacks.History at 0x1b348575e48>"
      ]
     },
     "execution_count": 13,
     "metadata": {},
     "output_type": "execute_result"
    }
   ],
   "source": [
    "## fitting model to images\n",
    "classifier.fit_generator(train_set,steps_per_epoch=3103,epochs=10,validation_data=test_set,validation_steps=108)"
   ]
  },
  {
   "cell_type": "code",
   "execution_count": 14,
   "metadata": {},
   "outputs": [],
   "source": [
    "## prediction of single new data\n",
    "\n",
    "test_image= image.load_img('img_0107.jpg'\n",
    "                           ,target_size =(64,64))\n"
   ]
  },
  {
   "cell_type": "code",
   "execution_count": 15,
   "metadata": {},
   "outputs": [
    {
     "data": {
      "image/png": "[encoded data removed]",
      "text/plain": [
       "<PIL.Image.Image image mode=RGB size=64x64 at 0x1B348575E10>"
      ]
     },
     "execution_count": 15,
     "metadata": {},
     "output_type": "execute_result"
    }
   ],
   "source": [
    "test_image"
   ]
  },
  {
   "cell_type": "code",
   "execution_count": 16,
   "metadata": {},
   "outputs": [],
   "source": [
    "## Convert image to array\n",
    "test_image = image.img_to_array(test_image)"
   ]
  },
  {
   "cell_type": "code",
   "execution_count": 17,
   "metadata": {},
   "outputs": [],
   "source": [
    "## For single prediction change the dimension using axis. To remove problem of batch\n",
    "test_image = np.expand_dims(test_image,axis = 0)\n"
   ]
  },
  {
   "cell_type": "code",
   "execution_count": 18,
   "metadata": {},
   "outputs": [],
   "source": [
    "result = classifier.predict(test_image)"
   ]
  },
  {
   "cell_type": "code",
   "execution_count": 19,
   "metadata": {},
   "outputs": [],
   "source": [
    "## Class of dog and cat\n",
    "\n",
    "if result[0][0] == 1:\n",
    "    prediction = 'dog'\n",
    "else:\n",
    "    prediction = 'cat'\n",
    "    "
   ]
  },
  {
   "cell_type": "code",
   "execution_count": 20,
   "metadata": {},
   "outputs": [
    {
     "data": {
      "text/plain": [
       "'dog'"
      ]
     },
     "execution_count": 20,
     "metadata": {},
     "output_type": "execute_result"
    }
   ],
   "source": [
    "prediction"
   ]
  },
  {
   "cell_type": "code",
   "execution_count": 22,
   "metadata": {},
   "outputs": [],
   "source": []
  },
  {
   "cell_type": "code",
   "execution_count": 23,
   "metadata": {},
   "outputs": [],
   "source": [
    "test = pd.read_csv('test.csv')"
   ]
  },
  {
   "cell_type": "code",
   "execution_count": 48,
   "metadata": {},
   "outputs": [
    {
     "name": "stdout",
     "output_type": "stream",
     "text": [
      "Saved model to disk\n"
     ]
    }
   ],
   "source": [
    "# saving cat dog classification model\n",
    "\n",
    "# serialize model to JSON\n",
    "model_json = classifier.to_json()\n",
    "with open(\"model.json\", \"w\") as json_file:\n",
    "    json_file.write(model_json)\n",
    "# serialize weights to HDF5\n",
    "classifier.save_weights(\"model.h5\")\n",
    "print(\"Saved model to disk\")"
   ]
  },
  {
   "cell_type": "code",
   "execution_count": 29,
   "metadata": {},
   "outputs": [],
   "source": [
    "# model predictor function for reusability\n",
    "def class_predictor(img_name):\n",
    "    test_image= image.load_img('images_test/'+img_name+'.jpg'\n",
    "                           ,target_size =(64,64))\n",
    "    test_image = image.img_to_array(test_image)\n",
    "    test_image = np.expand_dims(test_image,axis = 0)\n",
    "    result = classifier.predict(test_image)\n",
    "    if result[0][0] == 1:\n",
    "        prediction = 'dog'\n",
    "    else:\n",
    "        prediction = 'cat'\n",
    "        \n",
    "    return prediction\n",
    "\n",
    "    "
   ]
  },
  {
   "cell_type": "code",
   "execution_count": 30,
   "metadata": {},
   "outputs": [],
   "source": [
    "l=[]\n",
    "\n",
    "for i in test['id']:\n",
    "    l.append(class_predictor(str(i)))\n",
    "\n",
    "test['class_prediction'] = l"
   ]
  },
  {
   "cell_type": "code",
   "execution_count": 31,
   "metadata": {},
   "outputs": [
    {
     "data": {
      "text/html": [
       "<div>\n",
       "<style scoped>\n",
       "    .dataframe tbody tr th:only-of-type {\n",
       "        vertical-align: middle;\n",
       "    }\n",
       "\n",
       "    .dataframe tbody tr th {\n",
       "        vertical-align: top;\n",
       "    }\n",
       "\n",
       "    .dataframe thead th {\n",
       "        text-align: right;\n",
       "    }\n",
       "</style>\n",
       "<table border=\"1\" class=\"dataframe\">\n",
       "  <thead>\n",
       "    <tr style=\"text-align: right;\">\n",
       "      <th></th>\n",
       "      <th>id</th>\n",
       "      <th>class_prediction</th>\n",
       "    </tr>\n",
       "  </thead>\n",
       "  <tbody>\n",
       "    <tr>\n",
       "      <th>0</th>\n",
       "      <td>img_0966</td>\n",
       "      <td>dog</td>\n",
       "    </tr>\n",
       "    <tr>\n",
       "      <th>1</th>\n",
       "      <td>img_6542</td>\n",
       "      <td>dog</td>\n",
       "    </tr>\n",
       "    <tr>\n",
       "      <th>2</th>\n",
       "      <td>img_2360</td>\n",
       "      <td>dog</td>\n",
       "    </tr>\n",
       "    <tr>\n",
       "      <th>3</th>\n",
       "      <td>img_0763</td>\n",
       "      <td>cat</td>\n",
       "    </tr>\n",
       "    <tr>\n",
       "      <th>4</th>\n",
       "      <td>img_6579</td>\n",
       "      <td>dog</td>\n",
       "    </tr>\n",
       "  </tbody>\n",
       "</table>\n",
       "</div>"
      ],
      "text/plain": [
       "         id class_prediction\n",
       "0  img_0966              dog\n",
       "1  img_6542              dog\n",
       "2  img_2360              dog\n",
       "3  img_0763              cat\n",
       "4  img_6579              dog"
      ]
     },
     "execution_count": 31,
     "metadata": {},
     "output_type": "execute_result"
    }
   ],
   "source": [
    "test.head()"
   ]
  },
  {
   "cell_type": "code",
   "execution_count": 40,
   "metadata": {},
   "outputs": [],
   "source": [
    "# Cat breed classification cat_model\n",
    "cat_model = Sequential()\n",
    "cat_model.add(Conv2D(64, (3, 3), input_shape=(64,64,3)))\n",
    "cat_model.add(Activation('relu'))\n",
    "cat_model.add(MaxPooling2D(pool_size=(2, 2)))\n",
    "\n",
    "cat_model.add(Conv2D(64, (3, 3)))\n",
    "cat_model.add(Activation('relu'))\n",
    "cat_model.add(MaxPooling2D(pool_size=(2, 2)))\n",
    "\n",
    "cat_model.add(Conv2D(64, (3, 3)))\n",
    "cat_model.add(Activation('relu'))\n",
    "cat_model.add(MaxPooling2D(pool_size=(2, 2)))\n",
    "\n",
    "#fully connected layers\n",
    "cat_model.add(Flatten())  \n",
    "cat_model.add(Dense(64))\n",
    "cat_model.add(Activation('relu'))\n",
    "cat_model.add(Dropout(0.2))\n",
    "cat_model.add(Dense(5))\n",
    "cat_model.add(Activation('softmax'))\n",
    "\n",
    "\n"
   ]
  },
  {
   "cell_type": "code",
   "execution_count": 42,
   "metadata": {},
   "outputs": [],
   "source": [
    "# compiling cat breed model\n",
    "cat_model.compile(loss='categorical_crossentropy',\n",
    "              optimizer='adam',\n",
    "              metrics=['accuracy'])"
   ]
  },
  {
   "cell_type": "code",
   "execution_count": 36,
   "metadata": {},
   "outputs": [],
   "source": [
    "batch_size = 16\n",
    "\n",
    "train_datagen = ImageDataGenerator(\n",
    "        rescale=1./255,\n",
    "        shear_range=0.2,\n",
    "        zoom_range=0.2,\n",
    "        horizontal_flip=True)\n",
    "\n",
    "test_datagen = ImageDataGenerator(rescale=1./255)"
   ]
  },
  {
   "cell_type": "code",
   "execution_count": 37,
   "metadata": {},
   "outputs": [
    {
     "name": "stdout",
     "output_type": "stream",
     "text": [
      "Found 2968 images belonging to 5 classes.\n"
     ]
    }
   ],
   "source": [
    "train_generator = train_datagen.flow_from_directory(\n",
    "        'train_cat_breed/',\n",
    "        target_size=(64, 64),\n",
    "        batch_size=batch_size,\n",
    "        class_mode='categorical')"
   ]
  },
  {
   "cell_type": "code",
   "execution_count": 38,
   "metadata": {},
   "outputs": [
    {
     "name": "stdout",
     "output_type": "stream",
     "text": [
      "Found 0 images belonging to 0 classes.\n"
     ]
    }
   ],
   "source": [
    "validation_generator = test_datagen.flow_from_directory(\n",
    "        'images_test/',\n",
    "        target_size=(64, 64),\n",
    "        batch_size=16,\n",
    "        class_mode='categorical')"
   ]
  },
  {
   "cell_type": "code",
   "execution_count": 44,
   "metadata": {},
   "outputs": [
    {
     "name": "stdout",
     "output_type": "stream",
     "text": [
      "Epoch 1/10\n",
      "3103/3103 [==============================] - 357s 115ms/step - loss: 0.9857 - acc: 0.6001\n",
      "Epoch 2/10\n",
      "3103/3103 [==============================] - 358s 116ms/step - loss: 0.6672 - acc: 0.7354\n",
      "Epoch 3/10\n",
      "3103/3103 [==============================] - 363s 117ms/step - loss: 0.4575 - acc: 0.8216\n",
      "Epoch 4/10\n",
      "3103/3103 [==============================] - 360s 116ms/step - loss: 0.3428 - acc: 0.8651\n",
      "Epoch 5/10\n",
      "3103/3103 [==============================] - 363s 117ms/step - loss: 0.2808 - acc: 0.8935\n",
      "Epoch 6/10\n",
      "3103/3103 [==============================] - 367s 118ms/step - loss: 0.2372 - acc: 0.9109\n",
      "Epoch 7/10\n",
      "3103/3103 [==============================] - 360s 116ms/step - loss: 0.2114 - acc: 0.9219\n",
      "Epoch 8/10\n",
      "3103/3103 [==============================] - 359s 116ms/step - loss: 0.1918 - acc: 0.9282\n",
      "Epoch 9/10\n",
      "3103/3103 [==============================] - 358s 115ms/step - loss: 0.1804 - acc: 0.9334\n",
      "Epoch 10/10\n",
      "3103/3103 [==============================] - 360s 116ms/step - loss: 0.1619 - acc: 0.9404\n"
     ]
    },
    {
     "data": {
      "text/plain": [
       "<keras.callbacks.History at 0x1b34cd1d908>"
      ]
     },
     "execution_count": 44,
     "metadata": {},
     "output_type": "execute_result"
    }
   ],
   "source": [
    "nb_train_samples =6206\n",
    "nb_validation_samples = 1096\n",
    "cat_model.fit_generator(\n",
    "        train_generator,\n",
    "        steps_per_epoch=3103,\n",
    "        validation_steps=108,\n",
    "        epochs=10,\n",
    "        validation_data=validation_generator)"
   ]
  },
  {
   "cell_type": "code",
   "execution_count": 49,
   "metadata": {},
   "outputs": [
    {
     "name": "stdout",
     "output_type": "stream",
     "text": [
      "Saved model to disk\n"
     ]
    }
   ],
   "source": [
    "# saving cat dog classification model\n",
    "\n",
    "# serialize model to JSON\n",
    "model_json = cat_model.to_json()\n",
    "with open(\"cat_model.json\", \"w\") as json_file:\n",
    "    json_file.write(model_json)\n",
    "# serialize weights to HDF5\n",
    "cat_model.save_weights(\"cat_model.h5\")\n",
    "print(\"Saved model to disk\")"
   ]
  },
  {
   "cell_type": "code",
   "execution_count": 33,
   "metadata": {},
   "outputs": [],
   "source": [
    "#,\"DOG 21\",\"DOG 22\",\"DOG 23\",\"DOG 24\",\"DOG 25\"\n",
    "labels=[\"CAT 11\",\"CAT 12\",\"CAT 13\",\"CAT 14\",\"CAT 15\"]\n",
    "\n",
    "%matplotlib inline"
   ]
  },
  {
   "cell_type": "code",
   "execution_count": 46,
   "metadata": {},
   "outputs": [
    {
     "data": {
      "text/plain": [
       "0"
      ]
     },
     "execution_count": 46,
     "metadata": {},
     "output_type": "execute_result"
    }
   ],
   "source": [
    "labels.index('CAT 11')"
   ]
  },
  {
   "cell_type": "code",
   "execution_count": 50,
   "metadata": {},
   "outputs": [],
   "source": [
    "\n"
   ]
  },
  {
   "cell_type": "code",
   "execution_count": 56,
   "metadata": {},
   "outputs": [
    {
     "data": {
      "text/html": [
       "<div>\n",
       "<style scoped>\n",
       "    .dataframe tbody tr th:only-of-type {\n",
       "        vertical-align: middle;\n",
       "    }\n",
       "\n",
       "    .dataframe tbody tr th {\n",
       "        vertical-align: top;\n",
       "    }\n",
       "\n",
       "    .dataframe thead th {\n",
       "        text-align: right;\n",
       "    }\n",
       "</style>\n",
       "<table border=\"1\" class=\"dataframe\">\n",
       "  <thead>\n",
       "    <tr style=\"text-align: right;\">\n",
       "      <th></th>\n",
       "      <th>id</th>\n",
       "      <th>class_prediction</th>\n",
       "      <th>cat_breed_predictor</th>\n",
       "    </tr>\n",
       "  </thead>\n",
       "  <tbody>\n",
       "    <tr>\n",
       "      <th>0</th>\n",
       "      <td>img_0966</td>\n",
       "      <td>dog</td>\n",
       "      <td>CAT 13</td>\n",
       "    </tr>\n",
       "    <tr>\n",
       "      <th>1</th>\n",
       "      <td>img_6542</td>\n",
       "      <td>dog</td>\n",
       "      <td>CAT 14</td>\n",
       "    </tr>\n",
       "    <tr>\n",
       "      <th>2</th>\n",
       "      <td>img_2360</td>\n",
       "      <td>dog</td>\n",
       "      <td>CAT 11</td>\n",
       "    </tr>\n",
       "    <tr>\n",
       "      <th>3</th>\n",
       "      <td>img_0763</td>\n",
       "      <td>cat</td>\n",
       "      <td>CAT 12</td>\n",
       "    </tr>\n",
       "    <tr>\n",
       "      <th>4</th>\n",
       "      <td>img_6579</td>\n",
       "      <td>dog</td>\n",
       "      <td>CAT 12</td>\n",
       "    </tr>\n",
       "  </tbody>\n",
       "</table>\n",
       "</div>"
      ],
      "text/plain": [
       "         id class_prediction cat_breed_predictor\n",
       "0  img_0966              dog              CAT 13\n",
       "1  img_6542              dog              CAT 14\n",
       "2  img_2360              dog              CAT 11\n",
       "3  img_0763              cat              CAT 12\n",
       "4  img_6579              dog              CAT 12"
      ]
     },
     "execution_count": 56,
     "metadata": {},
     "output_type": "execute_result"
    }
   ],
   "source": [
    "test.head()"
   ]
  },
  {
   "cell_type": "code",
   "execution_count": 53,
   "metadata": {},
   "outputs": [],
   "source": [
    "def cat_breed_predictor(img_name):\n",
    "    test_image= image.load_img('images_test/'+img_name+'.jpg'\n",
    "                           ,target_size =(64,64))\n",
    "    test_image = image.img_to_array(test_image)\n",
    "    ## For single prediction change the dimension using axis. To remove problem of batch\n",
    "    test_image = np.expand_dims(test_image,axis = 0)\n",
    "    result = cat_model.predict(test_image)\n",
    "    for i in range(len(result[0])):\n",
    "        if result[0][i]==1:\n",
    "            return labels[i]\n",
    "            "
   ]
  },
  {
   "cell_type": "code",
   "execution_count": 57,
   "metadata": {},
   "outputs": [],
   "source": [
    "l=[]\n",
    "\n",
    "for i,j in zip(test['id'],test['class_prediction']):\n",
    "    if j =='cat':\n",
    "        l.append(cat_breed_predictor(str(i)))\n",
    "    else:\n",
    "        l.append(\"\")\n",
    "    \n",
    "\n",
    "test['cat_breed_predictor'] = l"
   ]
  },
  {
   "cell_type": "code",
   "execution_count": 59,
   "metadata": {},
   "outputs": [],
   "source": [
    "test.to_csv('Submission-Work-in-progress.csv')"
   ]
  },
  {
   "cell_type": "code",
   "execution_count": 60,
   "metadata": {},
   "outputs": [],
   "source": [
    "#dog breed prediction\n",
    "# Cat breed classification dog_model\n",
    "dog_model = Sequential()\n",
    "dog_model.add(Conv2D(64, (3, 3), input_shape=(64,64,3)))\n",
    "dog_model.add(Activation('relu'))\n",
    "dog_model.add(MaxPooling2D(pool_size=(2, 2)))\n",
    "\n",
    "dog_model.add(Conv2D(64, (3, 3)))\n",
    "dog_model.add(Activation('relu'))\n",
    "dog_model.add(MaxPooling2D(pool_size=(2, 2)))\n",
    "\n",
    "dog_model.add(Conv2D(64, (3, 3)))\n",
    "dog_model.add(Activation('relu'))\n",
    "dog_model.add(MaxPooling2D(pool_size=(2, 2)))\n",
    "\n",
    "#fully connected layers\n",
    "dog_model.add(Flatten())  \n",
    "dog_model.add(Dense(64))\n",
    "dog_model.add(Activation('relu'))\n",
    "dog_model.add(Dropout(0.2))\n",
    "dog_model.add(Dense(5))\n",
    "dog_model.add(Activation('softmax'))"
   ]
  },
  {
   "cell_type": "code",
   "execution_count": 61,
   "metadata": {},
   "outputs": [],
   "source": [
    "dog_model.compile(loss='categorical_crossentropy',\n",
    "              optimizer='adam',\n",
    "              metrics=['accuracy'])"
   ]
  },
  {
   "cell_type": "code",
   "execution_count": 62,
   "metadata": {},
   "outputs": [],
   "source": [
    "batch_size = 16\n",
    "\n",
    "train_datagen = ImageDataGenerator(\n",
    "        rescale=1./255,\n",
    "        shear_range=0.2,\n",
    "        zoom_range=0.2,\n",
    "        horizontal_flip=True)\n",
    "\n",
    "test_datagen = ImageDataGenerator(rescale=1./255)"
   ]
  },
  {
   "cell_type": "code",
   "execution_count": 63,
   "metadata": {},
   "outputs": [
    {
     "name": "stdout",
     "output_type": "stream",
     "text": [
      "Found 3238 images belonging to 5 classes.\n"
     ]
    }
   ],
   "source": [
    "train_generator = train_datagen.flow_from_directory(\n",
    "        'train_dog_breed/',\n",
    "        target_size=(64, 64),\n",
    "        batch_size=batch_size,\n",
    "        class_mode='categorical')"
   ]
  },
  {
   "cell_type": "code",
   "execution_count": 64,
   "metadata": {},
   "outputs": [
    {
     "name": "stdout",
     "output_type": "stream",
     "text": [
      "Found 0 images belonging to 0 classes.\n"
     ]
    }
   ],
   "source": [
    "validation_generator = test_datagen.flow_from_directory(\n",
    "        'images_test/',\n",
    "        target_size=(64, 64),\n",
    "        batch_size=16,\n",
    "        class_mode='categorical')"
   ]
  },
  {
   "cell_type": "code",
   "execution_count": 65,
   "metadata": {},
   "outputs": [
    {
     "name": "stdout",
     "output_type": "stream",
     "text": [
      "Epoch 1/10\n",
      "3103/3103 [==============================] - 377s 121ms/step - loss: 1.0792 - acc: 0.5674\n",
      "Epoch 2/10\n",
      "3103/3103 [==============================] - 371s 119ms/step - loss: 0.6010 - acc: 0.7702\n",
      "Epoch 3/10\n",
      "3103/3103 [==============================] - 387s 125ms/step - loss: 0.3776 - acc: 0.8560\n",
      "Epoch 4/10\n",
      "3103/3103 [==============================] - 424s 137ms/step - loss: 0.2821 - acc: 0.8945\n",
      "Epoch 5/10\n",
      "3103/3103 [==============================] - 381s 123ms/step - loss: 0.2284 - acc: 0.9175\n",
      "Epoch 6/10\n",
      "3103/3103 [==============================] - 376s 121ms/step - loss: 0.2021 - acc: 0.9288\n",
      "Epoch 7/10\n",
      "3103/3103 [==============================] - 376s 121ms/step - loss: 0.1881 - acc: 0.9328\n",
      "Epoch 8/10\n",
      "3103/3103 [==============================] - 361s 116ms/step - loss: 0.1651 - acc: 0.9422\n",
      "Epoch 9/10\n",
      "3103/3103 [==============================] - 360s 116ms/step - loss: 0.1538 - acc: 0.9460\n",
      "Epoch 10/10\n",
      "3103/3103 [==============================] - 370s 119ms/step - loss: 0.1459 - acc: 0.9495\n"
     ]
    },
    {
     "data": {
      "text/plain": [
       "<keras.callbacks.History at 0x1b350ccdf60>"
      ]
     },
     "execution_count": 65,
     "metadata": {},
     "output_type": "execute_result"
    }
   ],
   "source": [
    "nb_train_samples =6206\n",
    "nb_validation_samples = 1096\n",
    "dog_model.fit_generator(\n",
    "        train_generator,\n",
    "        steps_per_epoch=3103,\n",
    "        validation_steps=108,\n",
    "        epochs=10,\n",
    "        validation_data=validation_generator)"
   ]
  },
  {
   "cell_type": "code",
   "execution_count": 66,
   "metadata": {},
   "outputs": [
    {
     "name": "stdout",
     "output_type": "stream",
     "text": [
      "Saved model to disk\n"
     ]
    }
   ],
   "source": [
    "\n",
    "# serialize model to JSON\n",
    "model_json = dog_model.to_json()\n",
    "with open(\"dog_model.json\", \"w\") as json_file:\n",
    "    json_file.write(model_json)\n",
    "# serialize weights to HDF5\n",
    "dog_model.save_weights(\"dog_model.h5\")\n",
    "print(\"Saved model to disk\")"
   ]
  },
  {
   "cell_type": "code",
   "execution_count": 67,
   "metadata": {},
   "outputs": [],
   "source": [
    "labels=[\"DOG 21\",\"DOG 22\",\"DOG 23\",\"DOG 24\",\"DOG 25\"]"
   ]
  },
  {
   "cell_type": "code",
   "execution_count": 68,
   "metadata": {},
   "outputs": [],
   "source": [
    "def dog_breed_predictor(img_name):\n",
    "    test_image= image.load_img('images_test/'+img_name+'.jpg'\n",
    "                           ,target_size =(64,64))\n",
    "    test_image = image.img_to_array(test_image)\n",
    "    ## For single prediction change the dimension using axis. To remove problem of batch\n",
    "    test_image = np.expand_dims(test_image,axis = 0)\n",
    "    result = cat_model.predict(test_image)\n",
    "    for i in range(len(result[0])):\n",
    "        if result[0][i]==1:\n",
    "            return labels[i]"
   ]
  },
  {
   "cell_type": "code",
   "execution_count": 69,
   "metadata": {},
   "outputs": [],
   "source": [
    "l=[]\n",
    "\n",
    "for i,j in zip(test['id'],test['class_prediction']):\n",
    "    if j =='dog':\n",
    "        l.append(dog_breed_predictor(str(i)))\n",
    "    else:\n",
    "        l.append(\"\")\n",
    "    \n",
    "\n",
    "test['dog_breed_predictor'] = l"
   ]
  },
  {
   "cell_type": "code",
   "execution_count": 72,
   "metadata": {},
   "outputs": [],
   "source": [
    "test.to_csv('Submission-Work-in-progress.csv')"
   ]
  },
  {
   "cell_type": "code",
   "execution_count": null,
   "metadata": {},
   "outputs": [],
   "source": []
  },
  {
   "cell_type": "code",
   "execution_count": 71,
   "metadata": {},
   "outputs": [],
   "source": [
    "test[\"final prediction\"] = test.cat_breed_predictor.str.cat(test.dog_breed_predictor)"
   ]
  },
  {
   "cell_type": "code",
   "execution_count": 73,
   "metadata": {},
   "outputs": [],
   "source": [
    "submission =pd.read_csv(\"Submission final.csv\")"
   ]
  },
  {
   "cell_type": "code",
   "execution_count": 77,
   "metadata": {},
   "outputs": [],
   "source": [
    "l =[]\n",
    "for i in submission['class_prediction']:\n",
    "    if i == 'dog':\n",
    "        l.append(2)\n",
    "    else:\n",
    "        l.append(1)\n",
    "\n",
    "submission['class'] = l\n",
    "\n",
    "submission.to_csv('Submission final.csv')"
   ]
  },
  {
   "cell_type": "code",
   "execution_count": null,
   "metadata": {},
   "outputs": [],
   "source": []
  }
 ],
 "metadata": {
  "kernelspec": {
   "display_name": "Python 3",
   "language": "python",
   "name": "python3"
  },
  "language_info": {
   "codemirror_mode": {
    "name": "ipython",
    "version": 3
   },
   "file_extension": ".py",
   "mimetype": "text/x-python",
   "name": "python",
   "nbconvert_exporter": "python",
   "pygments_lexer": "ipython3",
   "version": "3.6.8"
  }
 },
 "nbformat": 4,
 "nbformat_minor": 2
}
