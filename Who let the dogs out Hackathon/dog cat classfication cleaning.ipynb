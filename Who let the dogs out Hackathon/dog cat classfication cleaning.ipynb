{
 "cells": [
  {
   "cell_type": "code",
   "execution_count": 6,
   "metadata": {},
   "outputs": [],
   "source": [
    "import pandas as pd\n",
    "import numpy as np\n",
    "\n",
    "train = pd.read_csv(\"E:/Datasets/Cats and Dogs/train.csv\")"
   ]
  },
  {
   "cell_type": "code",
   "execution_count": 9,
   "metadata": {},
   "outputs": [
    {
     "name": "stdout",
     "output_type": "stream",
     "text": [
      "<class 'pandas.core.frame.DataFrame'>\n",
      "RangeIndex: 6206 entries, 0 to 6205\n",
      "Data columns (total 3 columns):\n",
      "id            6206 non-null object\n",
      "class_name    6206 non-null int64\n",
      "breed         6206 non-null int64\n",
      "dtypes: int64(2), object(1)\n",
      "memory usage: 145.5+ KB\n"
     ]
    }
   ],
   "source": [
    "train.info()"
   ]
  },
  {
   "cell_type": "code",
   "execution_count": 26,
   "metadata": {},
   "outputs": [],
   "source": [
    "import shutil\n",
    "for i,j,k in zip(train['class_name'],train['id'],train['breed']):\n",
    "    if i == 1:\n",
    "        os.makedirs(os.path.dirname('E:/Datasets/Cats_Dogs/cats/'+str(k)+'/'), exist_ok=True)\n",
    "        shutil.copyfile('E:/Datasets/Cats_Dogs/images_train/'+ j +'.jpg', 'E:/Datasets/Cats_Dogs/cats/'+str(k)+'/'+ j +'.jpg')\n",
    "        #a.append('E:/Datasets/Cats_Dogs/images_train/'+ j +'.jpg ')\n",
    "        #os.system('copy ' + +)\n",
    "    else:\n",
    "        os.makedirs(os.path.dirname('E:/Datasets/Cats_Dogs/dogs/'+str(k)+'/'), exist_ok=True)\n",
    "        shutil.copyfile('E:/Datasets/Cats_Dogs/images_train/'+ j +'.jpg', 'E:/Datasets/Cats_Dogs/dogs/'+str(k)+'/'+ j +'.jpg')\n",
    "        "
   ]
  },
  {
   "cell_type": "code",
   "execution_count": 28,
   "metadata": {},
   "outputs": [],
   "source": [
    "import shutil\n",
    "for i,j,k in zip(train['class_name'],train['id'],train['breed']):\n",
    "    if i == 1:\n",
    "        os.makedirs(os.path.dirname('E:/Datasets/Cats_Dogs/cats/'), exist_ok=True)\n",
    "        shutil.copyfile('E:/Datasets/Cats_Dogs/images_train/'+ j +'.jpg', 'E:/Datasets/Cats_Dogs/cats/'+ j +'.jpg')\n",
    "    else:\n",
    "        os.makedirs(os.path.dirname('E:/Datasets/Cats_Dogs/dogs/'), exist_ok=True)\n",
    "        shutil.copyfile('E:/Datasets/Cats_Dogs/images_train/'+ j +'.jpg', 'E:/Datasets/Cats_Dogs/dogs/'+ j +'.jpg')\n",
    "        "
   ]
  },
  {
   "cell_type": "code",
   "execution_count": 30,
   "metadata": {},
   "outputs": [],
   "source": [
    "test = pd.read_csv(\"E:/Datasets/Cats_Dogs/test.csv\")"
   ]
  },
  {
   "cell_type": "code",
   "execution_count": 31,
   "metadata": {},
   "outputs": [
    {
     "data": {
      "text/html": [
       "<div>\n",
       "<style scoped>\n",
       "    .dataframe tbody tr th:only-of-type {\n",
       "        vertical-align: middle;\n",
       "    }\n",
       "\n",
       "    .dataframe tbody tr th {\n",
       "        vertical-align: top;\n",
       "    }\n",
       "\n",
       "    .dataframe thead th {\n",
       "        text-align: right;\n",
       "    }\n",
       "</style>\n",
       "<table border=\"1\" class=\"dataframe\">\n",
       "  <thead>\n",
       "    <tr style=\"text-align: right;\">\n",
       "      <th></th>\n",
       "      <th>id</th>\n",
       "    </tr>\n",
       "  </thead>\n",
       "  <tbody>\n",
       "    <tr>\n",
       "      <th>0</th>\n",
       "      <td>img_0966</td>\n",
       "    </tr>\n",
       "    <tr>\n",
       "      <th>1</th>\n",
       "      <td>img_6542</td>\n",
       "    </tr>\n",
       "    <tr>\n",
       "      <th>2</th>\n",
       "      <td>img_2360</td>\n",
       "    </tr>\n",
       "    <tr>\n",
       "      <th>3</th>\n",
       "      <td>img_0763</td>\n",
       "    </tr>\n",
       "    <tr>\n",
       "      <th>4</th>\n",
       "      <td>img_6579</td>\n",
       "    </tr>\n",
       "  </tbody>\n",
       "</table>\n",
       "</div>"
      ],
      "text/plain": [
       "         id\n",
       "0  img_0966\n",
       "1  img_6542\n",
       "2  img_2360\n",
       "3  img_0763\n",
       "4  img_6579"
      ]
     },
     "execution_count": 31,
     "metadata": {},
     "output_type": "execute_result"
    }
   ],
   "source": [
    "test.head()"
   ]
  },
  {
   "cell_type": "code",
   "execution_count": null,
   "metadata": {},
   "outputs": [],
   "source": [
    "import shutil\n",
    "for i,j,k in zip(test['class_name'],test['id'],test['breed']):\n",
    "    if i == 1:\n",
    "        os.makedirs(os.path.dirname('E:/Datasets/Cats_Dogs/cats/'), exist_ok=True)\n",
    "        shutil.copyfile('E:/Datasets/Cats_Dogs/images_train/'+ j +'.jpg', 'E:/Datasets/Cats_Dogs/cats/'+ j +'.jpg')\n",
    "    else:\n",
    "        os.makedirs(os.path.dirname('E:/Datasets/Cats_Dogs/dogs/'), exist_ok=True)\n",
    "        shutil.copyfile('E:/Datasets/Cats_Dogs/images_train/'+ j +'.jpg', 'E:/Datasets/Cats_Dogs/dogs/'+ j +'.jpg')\n",
    "        "
   ]
  }
 ],
 "metadata": {
  "kernelspec": {
   "display_name": "Python 3",
   "language": "python",
   "name": "python3"
  },
  "language_info": {
   "codemirror_mode": {
    "name": "ipython",
    "version": 3
   },
   "file_extension": ".py",
   "mimetype": "text/x-python",
   "name": "python",
   "nbconvert_exporter": "python",
   "pygments_lexer": "ipython3",
   "version": "3.6.8"
  }
 },
 "nbformat": 4,
 "nbformat_minor": 2
}
