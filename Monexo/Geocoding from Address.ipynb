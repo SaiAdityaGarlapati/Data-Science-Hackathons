{
 "cells": [
  {
   "cell_type": "code",
   "execution_count": 1,
   "metadata": {},
   "outputs": [],
   "source": [
    "import pandas as pd\n",
    "import numpy as np\n",
    "\n",
    "import os"
   ]
  },
  {
   "cell_type": "code",
   "execution_count": 5,
   "metadata": {},
   "outputs": [
    {
     "name": "stdout",
     "output_type": "stream",
     "text": [
      "zolo euphoria room 102,Electronic city Phase 1,Electronic city,Doddathoguru,Karnataka,560100,India.\n",
      "\n"
     ]
    }
   ],
   "source": [
    "f = open(\"Address.txt\", \"r\")\n",
    "print(f.read())"
   ]
  },
  {
   "cell_type": "code",
   "execution_count": 14,
   "metadata": {},
   "outputs": [],
   "source": [
    "f = open(\"Address.txt\", \"r\")\n",
    "l = []\n",
    "for x in f:\n",
    "    l.append(x)"
   ]
  },
  {
   "cell_type": "code",
   "execution_count": 40,
   "metadata": {},
   "outputs": [
    {
     "name": "stdout",
     "output_type": "stream",
     "text": [
      "12.852913;77.655615;in;Asia/Kolkata\n"
     ]
    }
   ],
   "source": [
    "from opencage.geocoder import OpenCageGeocode\n",
    "\n",
    "key = 'ea828dce70af4ab4a9a0ca7d37860887'\n",
    "geocoder = OpenCageGeocode(key)\n",
    "\n",
    "query = u'Doddathoguru,Karnataka,560100,India.'\n",
    "results = geocoder.geocode(query)\n",
    "\n",
    "print(u'%f;%f;%s;%s' % (results[0]['geometry']['lat'], \n",
    "                        results[0]['geometry']['lng'],\n",
    "                        results[0]['components']['country_code'],\n",
    "                        results[0]['annotations']['timezone']['name']))\n",
    "# 45.797095;15.982453;hr;Europe/Belgrade"
   ]
  },
  {
   "cell_type": "code",
   "execution_count": 41,
   "metadata": {},
   "outputs": [
    {
     "data": {
      "text/plain": [
       "Index(['Customer ', 'Home Address', 'City', 'Phone1', 'State', 'PinCode',\n",
       "       'Office Name', 'Floor', 'Block', 'Room/Flat', 'Door No & Street name',\n",
       "       'City.1', 'Unit'],\n",
       "      dtype='object')"
      ]
     },
     "execution_count": 41,
     "metadata": {},
     "output_type": "execute_result"
    }
   ],
   "source": [
    "df = pd.read_csv(\"TN_Mapping.csv\")\n",
    "df.columns"
   ]
  },
  {
   "cell_type": "code",
   "execution_count": 42,
   "metadata": {},
   "outputs": [
    {
     "data": {
      "text/html": [
       "<div>\n",
       "<style scoped>\n",
       "    .dataframe tbody tr th:only-of-type {\n",
       "        vertical-align: middle;\n",
       "    }\n",
       "\n",
       "    .dataframe tbody tr th {\n",
       "        vertical-align: top;\n",
       "    }\n",
       "\n",
       "    .dataframe thead th {\n",
       "        text-align: right;\n",
       "    }\n",
       "</style>\n",
       "<table border=\"1\" class=\"dataframe\">\n",
       "  <thead>\n",
       "    <tr style=\"text-align: right;\">\n",
       "      <th></th>\n",
       "      <th>Customer</th>\n",
       "      <th>Home Address</th>\n",
       "      <th>City</th>\n",
       "      <th>Phone1</th>\n",
       "      <th>State</th>\n",
       "      <th>PinCode</th>\n",
       "      <th>Office Name</th>\n",
       "      <th>Floor</th>\n",
       "      <th>Block</th>\n",
       "      <th>Room/Flat</th>\n",
       "      <th>Door No &amp; Street name</th>\n",
       "      <th>City.1</th>\n",
       "      <th>Unit</th>\n",
       "    </tr>\n",
       "  </thead>\n",
       "  <tbody>\n",
       "    <tr>\n",
       "      <th>0</th>\n",
       "      <td>1</td>\n",
       "      <td>44/2 SRI KAMATCHIPURAM SRKV POST</td>\n",
       "      <td>Coimbatore</td>\n",
       "      <td>42249523888</td>\n",
       "      <td>TAMIL NADU</td>\n",
       "      <td>641017</td>\n",
       "      <td>EMFINITY INDIA IT SOLUTIONS (P) LTD</td>\n",
       "      <td>2</td>\n",
       "      <td>0</td>\n",
       "      <td>0</td>\n",
       "      <td>MURUGAN NAGAR</td>\n",
       "      <td>Coimbatore</td>\n",
       "      <td>Gamma</td>\n",
       "    </tr>\n",
       "    <tr>\n",
       "      <th>1</th>\n",
       "      <td>2</td>\n",
       "      <td>7/23,melPavi,Tholampalayam,SOUTH THOTTAM</td>\n",
       "      <td>Coimbatore</td>\n",
       "      <td>42249523888</td>\n",
       "      <td>TAMIL NADU</td>\n",
       "      <td>641017</td>\n",
       "      <td>Emfinity India IT solution ptd</td>\n",
       "      <td>2</td>\n",
       "      <td>0</td>\n",
       "      <td>0</td>\n",
       "      <td>Murugan nagar busstop</td>\n",
       "      <td>Coimbatore</td>\n",
       "      <td>Gamma</td>\n",
       "    </tr>\n",
       "    <tr>\n",
       "      <th>2</th>\n",
       "      <td>3</td>\n",
       "      <td>66 c-5 ,Balamurugan Nagar, Ganapathy,Near Good...</td>\n",
       "      <td>Coimbatore</td>\n",
       "      <td>7010900109</td>\n",
       "      <td>TAMIL NADU</td>\n",
       "      <td>641038</td>\n",
       "      <td>FANGS TECHNOLOGY PVT LTD</td>\n",
       "      <td>0</td>\n",
       "      <td>0</td>\n",
       "      <td>MOBILE PLAZA</td>\n",
       "      <td>NO 1, Alagannan Gounder 5th Street, Saibaba Co...</td>\n",
       "      <td>Coimbatore</td>\n",
       "      <td>Epsilon</td>\n",
       "    </tr>\n",
       "    <tr>\n",
       "      <th>3</th>\n",
       "      <td>4</td>\n",
       "      <td>3/159C 3RD CROSS STREET TEACHERS COLONY VETTUV...</td>\n",
       "      <td>Chennai</td>\n",
       "      <td>4440282585</td>\n",
       "      <td>Tamil Nadu</td>\n",
       "      <td>600034</td>\n",
       "      <td>LOYLTY REWARDZ MANAGEMENT PVT LTD</td>\n",
       "      <td>0</td>\n",
       "      <td>VATIKA BUSINESS CENTRE</td>\n",
       "      <td>S8</td>\n",
       "      <td>471 ANNA SALAI</td>\n",
       "      <td>Chennai</td>\n",
       "      <td>Epsilon</td>\n",
       "    </tr>\n",
       "    <tr>\n",
       "      <th>4</th>\n",
       "      <td>5</td>\n",
       "      <td>21/2 RAJENDHIRA PRASATH 1ST STREET SEERANAICKA...</td>\n",
       "      <td>Coimbatore</td>\n",
       "      <td>7708326888</td>\n",
       "      <td>TAMIL NADU</td>\n",
       "      <td>641017</td>\n",
       "      <td>emfinity india it solution private limited</td>\n",
       "      <td>0</td>\n",
       "      <td>0</td>\n",
       "      <td>0</td>\n",
       "      <td>murugan nagar</td>\n",
       "      <td>Coimbatore</td>\n",
       "      <td>Gamma</td>\n",
       "    </tr>\n",
       "  </tbody>\n",
       "</table>\n",
       "</div>"
      ],
      "text/plain": [
       "   Customer                                        Home Address        City  \\\n",
       "0          1                   44/2 SRI KAMATCHIPURAM SRKV POST  Coimbatore   \n",
       "1          2           7/23,melPavi,Tholampalayam,SOUTH THOTTAM  Coimbatore   \n",
       "2          3  66 c-5 ,Balamurugan Nagar, Ganapathy,Near Good...  Coimbatore   \n",
       "3          4  3/159C 3RD CROSS STREET TEACHERS COLONY VETTUV...     Chennai   \n",
       "4          5  21/2 RAJENDHIRA PRASATH 1ST STREET SEERANAICKA...  Coimbatore   \n",
       "\n",
       "        Phone1       State  PinCode  \\\n",
       "0  42249523888  TAMIL NADU   641017   \n",
       "1  42249523888  TAMIL NADU   641017   \n",
       "2   7010900109  TAMIL NADU   641038   \n",
       "3   4440282585  Tamil Nadu   600034   \n",
       "4   7708326888  TAMIL NADU   641017   \n",
       "\n",
       "                                  Office Name Floor                   Block  \\\n",
       "0         EMFINITY INDIA IT SOLUTIONS (P) LTD     2                       0   \n",
       "1              Emfinity India IT solution ptd     2                       0   \n",
       "2                    FANGS TECHNOLOGY PVT LTD     0                       0   \n",
       "3           LOYLTY REWARDZ MANAGEMENT PVT LTD     0  VATIKA BUSINESS CENTRE   \n",
       "4  emfinity india it solution private limited     0                       0   \n",
       "\n",
       "      Room/Flat                              Door No & Street name  \\\n",
       "0             0                                      MURUGAN NAGAR   \n",
       "1             0                              Murugan nagar busstop   \n",
       "2  MOBILE PLAZA  NO 1, Alagannan Gounder 5th Street, Saibaba Co...   \n",
       "3            S8                                     471 ANNA SALAI   \n",
       "4             0                                      murugan nagar   \n",
       "\n",
       "       City.1     Unit  \n",
       "0  Coimbatore    Gamma  \n",
       "1  Coimbatore    Gamma  \n",
       "2  Coimbatore  Epsilon  \n",
       "3     Chennai  Epsilon  \n",
       "4  Coimbatore    Gamma  "
      ]
     },
     "execution_count": 42,
     "metadata": {},
     "output_type": "execute_result"
    }
   ],
   "source": [
    "df.head()"
   ]
  },
  {
   "cell_type": "code",
   "execution_count": 58,
   "metadata": {},
   "outputs": [],
   "source": [
    "df['Total Address'] = df['Home Address']+','+df['City']+','+df['State']+',India'"
   ]
  },
  {
   "cell_type": "code",
   "execution_count": 46,
   "metadata": {},
   "outputs": [
    {
     "data": {
      "text/plain": [
       "'44/2 SRI KAMATCHIPURAM SRKV POST,Coimbatore,TAMIL NADU,India'"
      ]
     },
     "execution_count": 46,
     "metadata": {},
     "output_type": "execute_result"
    }
   ],
   "source": [
    "df['Total Address'][0]"
   ]
  },
  {
   "cell_type": "code",
   "execution_count": 78,
   "metadata": {},
   "outputs": [
    {
     "name": "stderr",
     "output_type": "stream",
     "text": [
      "not found: 66 c-5 ,Balamurugan Nagar, Ganapathy,Near Good shepeard Schhol,Maniyakarapalayam,Coimbatore,TAMIL NADU,India\n",
      "not found: C 30,CHERAN COLONY TUDIYALUR, NEAR RAATION SHOP,Coimbatore,TAMIL NADU,India\n",
      "not found: 23, groud floor, door no -23 3rd main road venkateseara nagar velacehry,Chennai,TAMIL NADU,India\n",
      "not found: 5q2, 5th floor, Tower 5, Kgisl Platina apartment, Near Chill sez IT park keerthanam (V), saravanampatti,Coimbatore,TAMIL NADU,India\n",
      "not found: No-118, 20th street muthamil Nagar Kodungaiur 1st block, Ground floor, 1st block, 118 & 20th street,Chennai,TAMIL NADU,India\n"
     ]
    }
   ],
   "source": [
    "import sys\n",
    "from opencage.geocoder import OpenCageGeocode\n",
    "\n",
    "key = 'ea828dce70af4ab4a9a0ca7d37860887'\n",
    "geocoder = OpenCageGeocode(key)\n",
    "#addressfile = 'addresses.txt'\n",
    "latitude = []\n",
    "longitude = []\n",
    "\n",
    "try: \n",
    "    for line in df['Total Address']:\n",
    "        address = line.strip()\n",
    "        result = geocoder.geocode(address)\n",
    "        if result and len(result):\n",
    "            longitude.append(result[0]['geometry']['lng'])\n",
    "            latitude.append(result[0]['geometry']['lat'])\n",
    "        # 40.416705;-3.703582;Madrid,Spain\n",
    "        # 45.466797;9.190498;Milan,Italy\n",
    "        # 52.517037;13.388860;Berlin,Germany\n",
    "        else:\n",
    "            longitude.append(78.000000)\n",
    "            latitude.append(11.000000)\n",
    "            sys.stderr.write(\"not found: %s\\n\" % address)\n",
    "except IOError:\n",
    "    print('Error: File %s does not appear to exist.' % addressfile)\n"
   ]
  },
  {
   "cell_type": "code",
   "execution_count": 80,
   "metadata": {},
   "outputs": [
    {
     "name": "stdout",
     "output_type": "stream",
     "text": [
      "79\n",
      "79\n"
     ]
    }
   ],
   "source": [
    "\n",
    "print(len(longitude))\n",
    "print(len(latitude))\n",
    "df['latitude'] = latitude\n",
    "df['longitude'] = longitude"
   ]
  },
  {
   "cell_type": "code",
   "execution_count": 89,
   "metadata": {},
   "outputs": [],
   "source": [
    "data = df[['Total Address','latitude','longitude']]\n",
    "data.head(10)\n",
    "data.to_csv(\"geocoding_usingopencage.csv\")"
   ]
  }
 ],
 "metadata": {
  "kernelspec": {
   "display_name": "Python 3",
   "language": "python",
   "name": "python3"
  },
  "language_info": {
   "codemirror_mode": {
    "name": "ipython",
    "version": 3
   },
   "file_extension": ".py",
   "mimetype": "text/x-python",
   "name": "python",
   "nbconvert_exporter": "python",
   "pygments_lexer": "ipython3",
   "version": "3.6.8"
  }
 },
 "nbformat": 4,
 "nbformat_minor": 2
}
