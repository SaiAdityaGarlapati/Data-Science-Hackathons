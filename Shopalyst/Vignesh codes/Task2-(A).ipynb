{
 "cells": [
  {
   "cell_type": "code",
   "execution_count": 3,
   "metadata": {},
   "outputs": [],
   "source": [
    "#!pip install keras"
   ]
  },
  {
   "cell_type": "code",
   "execution_count": 166,
   "metadata": {},
   "outputs": [],
   "source": [
    "import numpy\n",
    "import matplotlib.pyplot as plt\n",
    "import pandas\n",
    "import math\n",
    "from keras.models import Sequential\n",
    "from keras.layers import Dense\n",
    "from keras.layers import LSTM\n",
    "from sklearn.preprocessing import MinMaxScaler\n",
    "from sklearn.metrics import mean_squared_error"
   ]
  },
  {
   "cell_type": "code",
   "execution_count": 184,
   "metadata": {},
   "outputs": [],
   "source": [
    "# fix random seed for reproducibility\n",
    "numpy.random.seed(7)"
   ]
  },
  {
   "cell_type": "code",
   "execution_count": 185,
   "metadata": {},
   "outputs": [
    {
     "data": {
      "text/plain": [
       "array([[ 1.],\n",
       "       [ 1.],\n",
       "       [ 1.],\n",
       "       ...,\n",
       "       [ 6.],\n",
       "       [18.],\n",
       "       [ 4.]], dtype=float32)"
      ]
     },
     "execution_count": 185,
     "metadata": {},
     "output_type": "execute_result"
    }
   ],
   "source": [
    "dataframe = pandas.read_csv(\"C:/Users/Administrator/python/18125760014_Bala_Vignesh_task2/camp.csv\",usecols=[2])\n",
    "dataset = dataframe.values\n",
    "dataset = dataset.astype('float32')\n",
    "dataset"
   ]
  },
  {
   "cell_type": "code",
   "execution_count": 187,
   "metadata": {},
   "outputs": [
    {
     "data": {
      "text/plain": [
       "array([[0.0000000e+00],\n",
       "       [0.0000000e+00],\n",
       "       [0.0000000e+00],\n",
       "       ...,\n",
       "       [5.2055690e-05],\n",
       "       [1.7698933e-04],\n",
       "       [3.1233412e-05]], dtype=float32)"
      ]
     },
     "execution_count": 187,
     "metadata": {},
     "output_type": "execute_result"
    }
   ],
   "source": [
    "# normalize the dataset\n",
    "scaler = MinMaxScaler(feature_range=(0, 1))\n",
    "dataset = scaler.fit_transform(dataset)\n",
    "dataset"
   ]
  },
  {
   "cell_type": "code",
   "execution_count": 201,
   "metadata": {},
   "outputs": [
    {
     "name": "stdout",
     "output_type": "stream",
     "text": [
      "2712 1337\n"
     ]
    }
   ],
   "source": [
    "# split into train and test sets\n",
    "train_size = int(len(dataset) * 0.67)\n",
    "test_size = len(dataset) - train_size\n",
    "train, test = dataset[0:train_size,:], dataset[train_size:len(dataset),:]\n",
    "print(len(train), len(test))"
   ]
  },
  {
   "cell_type": "code",
   "execution_count": 161,
   "metadata": {},
   "outputs": [
    {
     "data": {
      "text/plain": [
       "array([1717.], dtype=float32)"
      ]
     },
     "execution_count": 161,
     "metadata": {},
     "output_type": "execute_result"
    }
   ],
   "source": [
    "dataset[100:(100+1),0]"
   ]
  },
  {
   "cell_type": "code",
   "execution_count": 189,
   "metadata": {},
   "outputs": [],
   "source": [
    "# convert an array of values into a dataset matrix\n",
    "def create_dataset(dataset, look_back=1):\n",
    "    dataX, dataY = [], []\n",
    "    for i in range(len(dataset)-look_back-1):\n",
    "        a = dataset[i:(i+look_back), 0]\n",
    "        dataX.append(a)\n",
    "        dataY.append(dataset[i + look_back, 0])\n",
    "    return numpy.array(dataX), numpy.array(dataY)\n"
   ]
  },
  {
   "cell_type": "code",
   "execution_count": 190,
   "metadata": {},
   "outputs": [],
   "source": [
    "# reshape into X=t and Y=t+1\n",
    "look_back = 1\n",
    "trainX, trainY = create_dataset(train, look_back)\n",
    "testX, testY = create_dataset(test, look_back)"
   ]
  },
  {
   "cell_type": "code",
   "execution_count": 191,
   "metadata": {},
   "outputs": [
    {
     "name": "stdout",
     "output_type": "stream",
     "text": [
      "Epoch 1/50\n",
      " - 7s - loss: 0.0027\n",
      "Epoch 2/50\n",
      " - 5s - loss: 0.0025\n",
      "Epoch 3/50\n",
      " - 6s - loss: 0.0025\n",
      "Epoch 4/50\n",
      " - 6s - loss: 0.0025\n",
      "Epoch 5/50\n",
      " - 6s - loss: 0.0025\n",
      "Epoch 6/50\n",
      " - 6s - loss: 0.0025\n",
      "Epoch 7/50\n",
      " - 6s - loss: 0.0025\n",
      "Epoch 8/50\n",
      " - 6s - loss: 0.0025\n",
      "Epoch 9/50\n",
      " - 6s - loss: 0.0025\n",
      "Epoch 10/50\n",
      " - 6s - loss: 0.0024\n",
      "Epoch 11/50\n",
      " - 6s - loss: 0.0024\n",
      "Epoch 12/50\n",
      " - 6s - loss: 0.0024\n",
      "Epoch 13/50\n",
      " - 6s - loss: 0.0024\n",
      "Epoch 14/50\n",
      " - 6s - loss: 0.0024\n",
      "Epoch 15/50\n",
      " - 7s - loss: 0.0024\n",
      "Epoch 16/50\n",
      " - 6s - loss: 0.0024\n",
      "Epoch 17/50\n",
      " - 6s - loss: 0.0024\n",
      "Epoch 18/50\n",
      " - 6s - loss: 0.0024\n",
      "Epoch 19/50\n",
      " - 5s - loss: 0.0024\n",
      "Epoch 20/50\n",
      " - 5s - loss: 0.0024\n",
      "Epoch 21/50\n",
      " - 6s - loss: 0.0024\n",
      "Epoch 22/50\n",
      " - 6s - loss: 0.0024\n",
      "Epoch 23/50\n",
      " - 6s - loss: 0.0024\n",
      "Epoch 24/50\n",
      " - 6s - loss: 0.0024\n",
      "Epoch 25/50\n",
      " - 6s - loss: 0.0024\n",
      "Epoch 26/50\n",
      " - 6s - loss: 0.0024\n",
      "Epoch 27/50\n",
      " - 6s - loss: 0.0024\n",
      "Epoch 28/50\n",
      " - 6s - loss: 0.0024\n",
      "Epoch 29/50\n",
      " - 6s - loss: 0.0024\n",
      "Epoch 30/50\n",
      " - 6s - loss: 0.0024\n",
      "Epoch 31/50\n",
      " - 6s - loss: 0.0024\n",
      "Epoch 32/50\n",
      " - 6s - loss: 0.0024\n",
      "Epoch 33/50\n",
      " - 6s - loss: 0.0024\n",
      "Epoch 34/50\n",
      " - 6s - loss: 0.0024\n",
      "Epoch 35/50\n",
      " - 6s - loss: 0.0024\n",
      "Epoch 36/50\n",
      " - 6s - loss: 0.0024\n",
      "Epoch 37/50\n",
      " - 6s - loss: 0.0024\n",
      "Epoch 38/50\n",
      " - 6s - loss: 0.0024\n",
      "Epoch 39/50\n",
      " - 6s - loss: 0.0024\n",
      "Epoch 40/50\n",
      " - 6s - loss: 0.0024\n",
      "Epoch 41/50\n",
      " - 6s - loss: 0.0024\n",
      "Epoch 42/50\n",
      " - 5s - loss: 0.0024\n",
      "Epoch 43/50\n",
      " - 6s - loss: 0.0024\n",
      "Epoch 44/50\n",
      " - 6s - loss: 0.0024\n",
      "Epoch 45/50\n",
      " - 6s - loss: 0.0024\n",
      "Epoch 46/50\n",
      " - 6s - loss: 0.0024\n",
      "Epoch 47/50\n",
      " - 6s - loss: 0.0024\n",
      "Epoch 48/50\n",
      " - 6s - loss: 0.0024\n",
      "Epoch 49/50\n",
      " - 6s - loss: 0.0024\n",
      "Epoch 50/50\n",
      " - 6s - loss: 0.0024\n"
     ]
    },
    {
     "data": {
      "text/plain": [
       "<keras.callbacks.History at 0x2215e4ff630>"
      ]
     },
     "execution_count": 191,
     "metadata": {},
     "output_type": "execute_result"
    }
   ],
   "source": [
    "#create and fit the LSTM network\n",
    "model = Sequential()\n",
    "model.add(LSTM(4, input_shape=(1, look_back)))\n",
    "model.add(Dense(1))\n",
    "model.compile(loss='mean_squared_error', optimizer='adam')\n",
    "trainX = numpy.reshape(trainX, (trainX.shape[0], 1, trainX.shape[1]))\n",
    "testX = numpy.reshape(testX, (testX.shape[0], 1, testX.shape[1]))\n",
    "model.fit(trainX, trainY, epochs=50, batch_size=1, verbose=2)"
   ]
  },
  {
   "cell_type": "code",
   "execution_count": 192,
   "metadata": {},
   "outputs": [],
   "source": [
    "# make predictions\n",
    "trainPredict = model.predict(trainX)\n",
    "testPredict = model.predict(testX)\n",
    "trainY=trainY.reshape(2710,1)\n",
    "testY=testY.reshape(1335,1)\n",
    "\n",
    "# invert predictions\n",
    "trainPredict = scaler.inverse_transform(trainPredict)\n",
    "trainY = scaler.inverse_transform(trainY)\n",
    "testPredict = scaler.inverse_transform(testPredict)\n",
    "testY = scaler.inverse_transform(testY)\n"
   ]
  },
  {
   "cell_type": "code",
   "execution_count": 227,
   "metadata": {},
   "outputs": [],
   "source": [
    "data=pandas.read_csv('camp.csv')\n",
    "final_df=pandas.DataFrame()\n",
    "#columns=['id','date','click_count']"
   ]
  },
  {
   "cell_type": "code",
   "execution_count": 228,
   "metadata": {},
   "outputs": [],
   "source": [
    "lick_count':testPredict}\n",
    "final_df['id']=data['Campaign id'].iloc[train_size:len(dataset)-2]\n",
    "final_df['date']=data['Date'].iloc[train_size:len(dataset)-2]\n",
    "final_df['click_count']=testPredict"
   ]
  },
  {
   "cell_type": "code",
   "execution_count": 249,
   "metadata": {},
   "outputs": [],
   "source": [
    "anam=final_df[final_df.click_count>0.03]"
   ]
  },
  {
   "cell_type": "code",
   "execution_count": 250,
   "metadata": {},
   "outputs": [],
   "source": [
    "anam=anam.sort_values(by='date')"
   ]
  },
  {
   "cell_type": "markdown",
   "metadata": {},
   "source": [
    "We can easily identify the anomalies from this plot below, built on the predicted test data."
   ]
  },
  {
   "cell_type": "code",
   "execution_count": 258,
   "metadata": {},
   "outputs": [
    {
     "data": {
      "image/png": "[encoded data removed]",
      "text/plain": [
       "<Figure size 432x288 with 1 Axes>"
      ]
     },
     "metadata": {},
     "output_type": "display_data"
    }
   ],
   "source": [
    "plt.plot(anam.date,anam.click_count)\n",
    "plt.xticks(rotation=90)\n",
    "plt.show()"
   ]
  },
  {
   "cell_type": "code",
   "execution_count": 234,
   "metadata": {},
   "outputs": [
    {
     "name": "stdout",
     "output_type": "stream",
     "text": [
      "Train Score: 0.05 RMSE\n",
      "Test Score: 0.03 RMSE\n"
     ]
    }
   ],
   "source": [
    "# calculate root mean squared error\n",
    "trainScore = math.sqrt(mean_squared_error(trainY, trainPredict))\n",
    "print('Train Score: %.2f RMSE' % (trainScore))\n",
    "testScore = math.sqrt(mean_squared_error(testY, testPredict))\n",
    "print('Test Score: %.2f RMSE' % (testScore))"
   ]
  }
 ],
 "metadata": {
  "kernelspec": {
   "display_name": "Python 3",
   "language": "python",
   "name": "python3"
  },
  "language_info": {
   "codemirror_mode": {
    "name": "ipython",
    "version": 3
   },
   "file_extension": ".py",
   "mimetype": "text/x-python",
   "name": "python",
   "nbconvert_exporter": "python",
   "pygments_lexer": "ipython3",
   "version": "3.6.5"
  }
 },
 "nbformat": 4,
 "nbformat_minor": 2
}
