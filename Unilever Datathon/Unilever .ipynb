{
 "cells": [
  {
   "cell_type": "code",
   "execution_count": 1,
   "metadata": {},
   "outputs": [
    {
     "name": "stderr",
     "output_type": "stream",
     "text": [
      "Using TensorFlow backend.\n"
     ]
    }
   ],
   "source": [
    "import pandas as pd\n",
    "import numpy as np\n",
    "\n",
    "import matplotlib.pylab as plt\n",
    "%matplotlib inline\n",
    "from matplotlib.pylab import rcParams\n",
    "rcParams['figure.figsize'] = 15, 6\n",
    "\n",
    "import math\n",
    "from keras.models import Sequential\n",
    "from keras.layers import Dense\n",
    "from keras.layers import LSTM\n",
    "from sklearn.preprocessing import MinMaxScaler\n",
    "from sklearn.metrics import mean_squared_error"
   ]
  },
  {
   "cell_type": "code",
   "execution_count": 2,
   "metadata": {},
   "outputs": [],
   "source": [
    "depreciation = pd.read_csv(\"Depreciation.csv\",header=0)"
   ]
  },
  {
   "cell_type": "code",
   "execution_count": 3,
   "metadata": {},
   "outputs": [
    {
     "data": {
      "text/plain": [
       "Index(['Month-year', 'depreciation'], dtype='object')"
      ]
     },
     "execution_count": 3,
     "metadata": {},
     "output_type": "execute_result"
    }
   ],
   "source": [
    "depreciation.columns"
   ]
  },
  {
   "cell_type": "code",
   "execution_count": 19,
   "metadata": {},
   "outputs": [],
   "source": [
    "#depreciation['region'].unique()"
   ]
  },
  {
   "cell_type": "code",
   "execution_count": 4,
   "metadata": {},
   "outputs": [
    {
     "data": {
      "text/plain": [
       "([], <a list of 0 Text xticklabel objects>)"
      ]
     },
     "execution_count": 4,
     "metadata": {},
     "output_type": "execute_result"
    },
    {
     "data": {
      "image/png": "[encoded data removed]",
      "text/plain": [
       "<Figure size 432x288 with 1 Axes>"
      ]
     },
     "metadata": {
      "needs_background": "light"
     },
     "output_type": "display_data"
    }
   ],
   "source": [
    "x= np.array(depreciation['Month-year'])\n",
    "y= np.array(depreciation['depreciation'])\n",
    "plt.plot(x,y)\n",
    "plt.xticks([])"
   ]
  },
  {
   "cell_type": "code",
   "execution_count": 5,
   "metadata": {},
   "outputs": [],
   "source": [
    "# convert an array of values into a dataset matrix\n",
    "def create_dataset(dataset, look_back=1):\n",
    "    dataX, dataY = [], []\n",
    "    for i in range(len(dataset)-look_back-1):\n",
    "        a = dataset[i:(i+look_back), 0]\n",
    "        dataX.append(a)\n",
    "        dataY.append(dataset[i + look_back, 0])\n",
    "    return np.array(dataX), np.array(dataY)"
   ]
  },
  {
   "cell_type": "code",
   "execution_count": 6,
   "metadata": {},
   "outputs": [],
   "source": [
    "# fix random seed for reproducibility\n",
    "np.random.seed(7)"
   ]
  },
  {
   "cell_type": "code",
   "execution_count": 7,
   "metadata": {},
   "outputs": [],
   "source": [
    "# load the dataset\n",
    "#pd.read_csv('international-airline-passengers.csv', usecols=[1], engine='python', skipfooter=3)\n",
    "dataframe = depreciation['depreciation']\n",
    "dataset = dataframe.values\n",
    "dataset = dataset.astype('float32')\n",
    "dataset = dataset.reshape(-1, 1)"
   ]
  },
  {
   "cell_type": "code",
   "execution_count": 8,
   "metadata": {},
   "outputs": [
    {
     "data": {
      "text/plain": [
       "array([[  306.],\n",
       "       [  612.],\n",
       "       [  779.],\n",
       "       [ 1077.],\n",
       "       [ 1347.],\n",
       "       [ 1596.],\n",
       "       [ 1918.],\n",
       "       [ 2218.],\n",
       "       [ 2519.],\n",
       "       [ 2828.],\n",
       "       [ 3130.],\n",
       "       [ 3439.],\n",
       "       [  301.],\n",
       "       [  602.],\n",
       "       [  903.],\n",
       "       [ 1211.],\n",
       "       [ 1528.],\n",
       "       [ 1844.],\n",
       "       [ 2191.],\n",
       "       [ 2527.],\n",
       "       [ 2880.],\n",
       "       [ 3231.],\n",
       "       [ 3575.],\n",
       "       [ 4387.],\n",
       "       [  451.],\n",
       "       [  900.],\n",
       "       [ 1354.],\n",
       "       [ 1823.],\n",
       "       [ 2211.],\n",
       "       [ 2639.],\n",
       "       [ 3117.],\n",
       "       [ 3595.],\n",
       "       [ 4074.],\n",
       "       [ 4554.],\n",
       "       [ 5046.],\n",
       "       [ 5540.],\n",
       "       [  501.],\n",
       "       [  996.],\n",
       "       [ 1494.],\n",
       "       [ 2018.],\n",
       "       [ 2535.],\n",
       "       [ 3056.],\n",
       "       [ 3562.],\n",
       "       [ 4121.],\n",
       "       [ 4645.],\n",
       "       [ 5194.],\n",
       "       [ 5742.],\n",
       "       [ 6297.],\n",
       "       [  560.],\n",
       "       [ 1077.],\n",
       "       [ 1635.],\n",
       "       [ 2224.],\n",
       "       [ 2827.],\n",
       "       [ 3465.],\n",
       "       [ 4108.],\n",
       "       [ 4764.],\n",
       "       [ 5237.],\n",
       "       [ 5831.],\n",
       "       [ 6425.],\n",
       "       [ 7039.],\n",
       "       [  637.],\n",
       "       [ 2782.],\n",
       "       [ 3934.],\n",
       "       [ 5329.],\n",
       "       [ 6730.],\n",
       "       [ 8126.],\n",
       "       [ 9551.],\n",
       "       [10986.],\n",
       "       [12431.],\n",
       "       [13779.],\n",
       "       [15217.],\n",
       "       [16647.],\n",
       "       [ 1401.],\n",
       "       [ 2818.],\n",
       "       [ 4205.],\n",
       "       [ 5634.],\n",
       "       [ 7075.],\n",
       "       [ 8523.],\n",
       "       [10001.],\n",
       "       [11443.],\n",
       "       [12942.],\n",
       "       [14430.],\n",
       "       [15969.],\n",
       "       [17620.],\n",
       "       [ 1496.],\n",
       "       [ 2999.],\n",
       "       [ 4520.],\n",
       "       [ 6065.],\n",
       "       [ 7658.],\n",
       "       [ 9320.],\n",
       "       [11330.],\n",
       "       [13277.],\n",
       "       [15289.],\n",
       "       [17386.],\n",
       "       [19503.],\n",
       "       [21742.],\n",
       "       [ 2141.],\n",
       "       [ 4363.],\n",
       "       [ 6836.],\n",
       "       [ 9427.],\n",
       "       [12047.],\n",
       "       [14688.],\n",
       "       [17049.],\n",
       "       [19404.],\n",
       "       [21763.],\n",
       "       [24119.],\n",
       "       [26484.],\n",
       "       [28787.],\n",
       "       [ 2353.],\n",
       "       [ 4655.],\n",
       "       [ 6949.],\n",
       "       [ 9357.],\n",
       "       [11763.],\n",
       "       [14177.],\n",
       "       [16685.],\n",
       "       [19171.],\n",
       "       [21659.],\n",
       "       [24084.],\n",
       "       [26341.],\n",
       "       [29016.]], dtype=float32)"
      ]
     },
     "execution_count": 8,
     "metadata": {},
     "output_type": "execute_result"
    }
   ],
   "source": [
    "dataset"
   ]
  },
  {
   "cell_type": "code",
   "execution_count": 33,
   "metadata": {},
   "outputs": [],
   "source": [
    "# normalize the dataset\n",
    "scaler = MinMaxScaler(feature_range=(0, 1))\n",
    "dataset = scaler.fit_transform(dataset)"
   ]
  },
  {
   "cell_type": "code",
   "execution_count": 34,
   "metadata": {},
   "outputs": [],
   "source": [
    "# split into train and test sets\n",
    "train_size = int(len(dataset) * 0.67)\n",
    "test_size = len(dataset) - train_size\n",
    "train, test = dataset[0:train_size,:], dataset[train_size:len(dataset),:]"
   ]
  },
  {
   "cell_type": "code",
   "execution_count": 35,
   "metadata": {},
   "outputs": [],
   "source": [
    "# reshape into X=t and Y=t+1\n",
    "look_back = 1\n",
    "trainX, trainY = create_dataset(train, look_back)\n",
    "testX, testY = create_dataset(test, look_back)"
   ]
  },
  {
   "cell_type": "code",
   "execution_count": 36,
   "metadata": {},
   "outputs": [],
   "source": [
    "# reshape input to be [samples, time steps, features]\n",
    "trainX = np.reshape(trainX, (trainX.shape[0], 1, trainX.shape[1]))\n",
    "testX = np.reshape(testX, (testX.shape[0], 1, testX.shape[1]))"
   ]
  },
  {
   "cell_type": "code",
   "execution_count": 37,
   "metadata": {},
   "outputs": [
    {
     "name": "stdout",
     "output_type": "stream",
     "text": [
      "Epoch 1/100\n",
      " - 4s - loss: 0.0198\n",
      "Epoch 2/100\n",
      " - 0s - loss: 0.0131\n",
      "Epoch 3/100\n",
      " - 0s - loss: 0.0122\n",
      "Epoch 4/100\n",
      " - 0s - loss: 0.0118\n",
      "Epoch 5/100\n",
      " - 0s - loss: 0.0115\n",
      "Epoch 6/100\n",
      " - 0s - loss: 0.0111\n",
      "Epoch 7/100\n",
      " - 0s - loss: 0.0107\n",
      "Epoch 8/100\n",
      " - 0s - loss: 0.0104\n",
      "Epoch 9/100\n",
      " - 0s - loss: 0.0101\n",
      "Epoch 10/100\n",
      " - 0s - loss: 0.0098\n",
      "Epoch 11/100\n",
      " - 0s - loss: 0.0095\n",
      "Epoch 12/100\n",
      " - 0s - loss: 0.0093\n",
      "Epoch 13/100\n",
      " - 0s - loss: 0.0089\n",
      "Epoch 14/100\n",
      " - 0s - loss: 0.0086\n",
      "Epoch 15/100\n",
      " - 0s - loss: 0.0082\n",
      "Epoch 16/100\n",
      " - 0s - loss: 0.0080\n",
      "Epoch 17/100\n",
      " - 0s - loss: 0.0079\n",
      "Epoch 18/100\n",
      " - 0s - loss: 0.0075\n",
      "Epoch 19/100\n",
      " - 0s - loss: 0.0074\n",
      "Epoch 20/100\n",
      " - 0s - loss: 0.0071\n",
      "Epoch 21/100\n",
      " - 0s - loss: 0.0070\n",
      "Epoch 22/100\n",
      " - 0s - loss: 0.0068\n",
      "Epoch 23/100\n",
      " - 0s - loss: 0.0067\n",
      "Epoch 24/100\n",
      " - 0s - loss: 0.0066\n",
      "Epoch 25/100\n",
      " - 0s - loss: 0.0066\n",
      "Epoch 26/100\n",
      " - 0s - loss: 0.0064\n",
      "Epoch 27/100\n",
      " - 0s - loss: 0.0065\n",
      "Epoch 28/100\n",
      " - 0s - loss: 0.0062\n",
      "Epoch 29/100\n",
      " - 0s - loss: 0.0061\n",
      "Epoch 30/100\n",
      " - 0s - loss: 0.0062\n",
      "Epoch 31/100\n",
      " - 0s - loss: 0.0060\n",
      "Epoch 32/100\n",
      " - 0s - loss: 0.0061\n",
      "Epoch 33/100\n",
      " - 0s - loss: 0.0060\n",
      "Epoch 34/100\n",
      " - 0s - loss: 0.0060\n",
      "Epoch 35/100\n",
      " - 0s - loss: 0.0059\n",
      "Epoch 36/100\n",
      " - 0s - loss: 0.0060\n",
      "Epoch 37/100\n",
      " - 0s - loss: 0.0059\n",
      "Epoch 38/100\n",
      " - 0s - loss: 0.0060\n",
      "Epoch 39/100\n",
      " - 0s - loss: 0.0059\n",
      "Epoch 40/100\n",
      " - 0s - loss: 0.0059\n",
      "Epoch 41/100\n",
      " - 0s - loss: 0.0059\n",
      "Epoch 42/100\n",
      " - 0s - loss: 0.0058\n",
      "Epoch 43/100\n",
      " - 0s - loss: 0.0058\n",
      "Epoch 44/100\n",
      " - 0s - loss: 0.0058\n",
      "Epoch 45/100\n",
      " - 0s - loss: 0.0059\n",
      "Epoch 46/100\n",
      " - 0s - loss: 0.0058\n",
      "Epoch 47/100\n",
      " - 0s - loss: 0.0059\n",
      "Epoch 48/100\n",
      " - 0s - loss: 0.0058\n",
      "Epoch 49/100\n",
      " - 0s - loss: 0.0058\n",
      "Epoch 50/100\n",
      " - 0s - loss: 0.0059\n",
      "Epoch 51/100\n",
      " - 0s - loss: 0.0058\n",
      "Epoch 52/100\n",
      " - 0s - loss: 0.0058\n",
      "Epoch 53/100\n",
      " - 0s - loss: 0.0058\n",
      "Epoch 54/100\n",
      " - 0s - loss: 0.0058\n",
      "Epoch 55/100\n",
      " - 0s - loss: 0.0058\n",
      "Epoch 56/100\n",
      " - 0s - loss: 0.0058\n",
      "Epoch 57/100\n",
      " - 0s - loss: 0.0058\n",
      "Epoch 58/100\n",
      " - 0s - loss: 0.0060\n",
      "Epoch 59/100\n",
      " - 0s - loss: 0.0058\n",
      "Epoch 60/100\n",
      " - 0s - loss: 0.0058\n",
      "Epoch 61/100\n",
      " - 0s - loss: 0.0058\n",
      "Epoch 62/100\n",
      " - 0s - loss: 0.0058\n",
      "Epoch 63/100\n",
      " - 0s - loss: 0.0058\n",
      "Epoch 64/100\n",
      " - 0s - loss: 0.0059\n",
      "Epoch 65/100\n",
      " - 0s - loss: 0.0058\n",
      "Epoch 66/100\n",
      " - 0s - loss: 0.0058\n",
      "Epoch 67/100\n",
      " - 0s - loss: 0.0058\n",
      "Epoch 68/100\n",
      " - 0s - loss: 0.0058\n",
      "Epoch 69/100\n",
      " - 0s - loss: 0.0058\n",
      "Epoch 70/100\n",
      " - 0s - loss: 0.0058\n",
      "Epoch 71/100\n",
      " - 0s - loss: 0.0058\n",
      "Epoch 72/100\n",
      " - 0s - loss: 0.0058\n",
      "Epoch 73/100\n",
      " - 0s - loss: 0.0058\n",
      "Epoch 74/100\n",
      " - 0s - loss: 0.0058\n",
      "Epoch 75/100\n",
      " - 0s - loss: 0.0057\n",
      "Epoch 76/100\n",
      " - 0s - loss: 0.0058\n",
      "Epoch 77/100\n",
      " - 0s - loss: 0.0058\n",
      "Epoch 78/100\n",
      " - 0s - loss: 0.0057\n",
      "Epoch 79/100\n",
      " - 0s - loss: 0.0058\n",
      "Epoch 80/100\n",
      " - 0s - loss: 0.0058\n",
      "Epoch 81/100\n",
      " - 0s - loss: 0.0058\n",
      "Epoch 82/100\n",
      " - 0s - loss: 0.0058\n",
      "Epoch 83/100\n",
      " - 0s - loss: 0.0058\n",
      "Epoch 84/100\n",
      " - 0s - loss: 0.0057\n",
      "Epoch 85/100\n",
      " - 0s - loss: 0.0057\n",
      "Epoch 86/100\n",
      " - 0s - loss: 0.0058\n",
      "Epoch 87/100\n",
      " - 0s - loss: 0.0058\n",
      "Epoch 88/100\n",
      " - 0s - loss: 0.0058\n",
      "Epoch 89/100\n",
      " - 0s - loss: 0.0058\n",
      "Epoch 90/100\n",
      " - 0s - loss: 0.0057\n",
      "Epoch 91/100\n",
      " - 0s - loss: 0.0058\n",
      "Epoch 92/100\n",
      " - 0s - loss: 0.0058\n",
      "Epoch 93/100\n",
      " - 0s - loss: 0.0058\n",
      "Epoch 94/100\n",
      " - 0s - loss: 0.0057\n",
      "Epoch 95/100\n",
      " - 0s - loss: 0.0058\n",
      "Epoch 96/100\n",
      " - 0s - loss: 0.0058\n",
      "Epoch 97/100\n",
      " - 0s - loss: 0.0057\n",
      "Epoch 98/100\n",
      " - 0s - loss: 0.0058\n",
      "Epoch 99/100\n",
      " - 0s - loss: 0.0060\n",
      "Epoch 100/100\n",
      " - 0s - loss: 0.0057\n"
     ]
    },
    {
     "data": {
      "text/plain": [
       "<keras.callbacks.History at 0x1ae0d93e940>"
      ]
     },
     "execution_count": 37,
     "metadata": {},
     "output_type": "execute_result"
    }
   ],
   "source": [
    "# create and fit the LSTM network\n",
    "model = Sequential()\n",
    "model.add(LSTM(4, input_shape=(1, look_back)))\n",
    "model.add(Dense(1))\n",
    "model.compile(loss='mean_squared_error', optimizer='adam')\n",
    "model.fit(trainX, trainY, epochs=100, batch_size=1, verbose=2)"
   ]
  },
  {
   "cell_type": "code",
   "execution_count": 38,
   "metadata": {},
   "outputs": [],
   "source": [
    "# make predictions\n",
    "trainPredict = model.predict(trainX)\n",
    "testPredict = model.predict(testX)"
   ]
  },
  {
   "cell_type": "code",
   "execution_count": 39,
   "metadata": {},
   "outputs": [],
   "source": [
    "# invert predictions\n",
    "trainPredict = scaler.inverse_transform(trainPredict)\n",
    "trainY = scaler.inverse_transform([trainY])\n",
    "testPredict = scaler.inverse_transform(testPredict)\n",
    "testY = scaler.inverse_transform([testY])"
   ]
  },
  {
   "cell_type": "code",
   "execution_count": 40,
   "metadata": {},
   "outputs": [
    {
     "name": "stdout",
     "output_type": "stream",
     "text": [
      "Train Score: 2153.23 RMSE\n",
      "Test Score: 6196.22 RMSE\n"
     ]
    }
   ],
   "source": [
    "# calculate root mean squared error\n",
    "trainScore = math.sqrt(mean_squared_error(trainY[0], trainPredict[:,0]))\n",
    "print('Train Score: %.2f RMSE' % (trainScore))\n",
    "testScore = math.sqrt(mean_squared_error(testY[0], testPredict[:,0]))\n",
    "print('Test Score: %.2f RMSE' % (testScore))"
   ]
  },
  {
   "cell_type": "code",
   "execution_count": 41,
   "metadata": {},
   "outputs": [],
   "source": [
    "# shift train predictions for plotting\n",
    "trainPredictPlot = np.empty_like(dataset)\n",
    "trainPredictPlot[:, :] = np.nan\n",
    "trainPredictPlot[look_back:len(trainPredict)+look_back, :] = trainPredict"
   ]
  },
  {
   "cell_type": "code",
   "execution_count": 42,
   "metadata": {},
   "outputs": [],
   "source": [
    "# shift test predictions for plotting\n",
    "testPredictPlot = np.empty_like(dataset)\n",
    "testPredictPlot[:, :] = np.nan\n",
    "testPredictPlot[len(trainPredict)+(look_back*2)+1:len(dataset)-1, :] = testPredict"
   ]
  },
  {
   "cell_type": "code",
   "execution_count": 43,
   "metadata": {},
   "outputs": [
    {
     "data": {
      "image/png": "[encoded data removed]",
      "text/plain": [
       "<Figure size 1080x432 with 1 Axes>"
      ]
     },
     "metadata": {
      "needs_background": "light"
     },
     "output_type": "display_data"
    }
   ],
   "source": [
    "# plot baseline and predictions\n",
    "plt.plot(scaler.inverse_transform(dataset))\n",
    "plt.plot(trainPredictPlot)\n",
    "plt.plot(testPredictPlot)\n",
    "plt.show()"
   ]
  }
 ],
 "metadata": {
  "kernelspec": {
   "display_name": "Python 3",
   "language": "python",
   "name": "python3"
  },
  "language_info": {
   "codemirror_mode": {
    "name": "ipython",
    "version": 3
   },
   "file_extension": ".py",
   "mimetype": "text/x-python",
   "name": "python",
   "nbconvert_exporter": "python",
   "pygments_lexer": "ipython3",
   "version": "3.6.8"
  }
 },
 "nbformat": 4,
 "nbformat_minor": 2
}
